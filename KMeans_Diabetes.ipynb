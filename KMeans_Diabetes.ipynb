{
 "cells": [
  {
   "cell_type": "code",
   "execution_count": 1,
   "metadata": {
    "collapsed": true
   },
   "outputs": [],
   "source": [
    "import numpy as np\n",
    "import pandas as pd\n",
    "\n",
    "import matplotlib.pyplot as plt\n",
    "\n",
    "import sklearn\n",
    "from sklearn.cluster import KMeans\n",
    "from mpl_toolkits.mplot3d import Axes3D\n",
    "from sklearn.preprocessing import scale\n",
    "\n",
    "import sklearn.metrics as sm\n",
    "from sklearn import datasets\n",
    "from sklearn.metrics import confusion_matrix, classification_report"
   ]
  },
  {
   "cell_type": "code",
   "execution_count": 2,
   "metadata": {
    "collapsed": true
   },
   "outputs": [],
   "source": [
    "df = pd.read_csv(r'C:\\Users\\syeds\\AppData\\Local\\Programs\\Python\\Python36\\Scripts\\New folder\\KNn\\DataSet.data.txt')\n",
    "df.drop(['SeqNum'], 1, inplace=True)\n",
    "X = np.array(df.drop(['Diabetes'],1))\n",
    "y = pd.DataFrame(df['Diabetes'])\n",
    "\n",
    "\n",
    "#X = scale(iris.data)\n",
    "\n",
    "#y = pd.DataFrame(iris.target)\n"
   ]
  },
  {
   "cell_type": "code",
   "execution_count": 3,
   "metadata": {},
   "outputs": [
    {
     "data": {
      "text/plain": [
       "KMeans(algorithm='auto', copy_x=True, init='k-means++', max_iter=300,\n",
       "    n_clusters=2, n_init=10, n_jobs=1, precompute_distances='auto',\n",
       "    random_state=None, tol=0.0001, verbose=0)"
      ]
     },
     "execution_count": 3,
     "metadata": {},
     "output_type": "execute_result"
    }
   ],
   "source": [
    "clustering = KMeans(n_clusters=2)\n",
    "clustering.fit(X)"
   ]
  },
  {
   "cell_type": "code",
   "execution_count": 4,
   "metadata": {},
   "outputs": [
    {
     "data": {
      "text/plain": [
       "array([0, 1, 0, ..., 1, 0, 0])"
      ]
     },
     "execution_count": 4,
     "metadata": {},
     "output_type": "execute_result"
    }
   ],
   "source": [
    "clustering.labels_"
   ]
  },
  {
   "cell_type": "code",
   "execution_count": 5,
   "metadata": {},
   "outputs": [
    {
     "name": "stdout",
     "output_type": "stream",
     "text": [
      "             precision    recall  f1-score   support\n",
      "\n",
      "          0       1.00      0.93      0.96      6108\n",
      "          1       0.20      0.97      0.34       111\n",
      "\n",
      "avg / total       0.99      0.93      0.95      6219\n",
      "\n"
     ]
    }
   ],
   "source": [
    "print(classification_report(y, clustering.labels_))"
   ]
  },
  {
   "cell_type": "code",
   "execution_count": 25,
   "metadata": {},
   "outputs": [
    {
     "data": {
      "text/plain": [
       "array([[ 0.6121182 , -0.11787819,  0.1364961 ],\n",
       "       [ 1.1650852 ,  1.33652905,  2.11634037],\n",
       "       [ 0.8886017 ,  0.83064827,  0.88443727],\n",
       "       ..., \n",
       "       [ 1.1650852 ,  0.45123768,  2.33632306],\n",
       "       [ 0.0591512 , -0.87669936, -0.83142777],\n",
       "       [ 0.6121182 , -0.43405368, -0.32546757]])"
      ]
     },
     "execution_count": 25,
     "metadata": {},
     "output_type": "execute_result"
    }
   ],
   "source": [
    "X"
   ]
  },
  {
   "cell_type": "code",
   "execution_count": null,
   "metadata": {
    "collapsed": true
   },
   "outputs": [],
   "source": []
  },
  {
   "cell_type": "code",
   "execution_count": null,
   "metadata": {
    "collapsed": true
   },
   "outputs": [],
   "source": []
  },
  {
   "cell_type": "code",
   "execution_count": null,
   "metadata": {
    "collapsed": true
   },
   "outputs": [],
   "source": []
  },
  {
   "cell_type": "code",
   "execution_count": 7,
   "metadata": {},
   "outputs": [
    {
     "name": "stdout",
     "output_type": "stream",
     "text": [
      "accuracy= 0.997588424437\n",
      "prediction= [0] type(prediction)= <class 'numpy.ndarray'>\n"
     ]
    }
   ],
   "source": [
    "import numpy as np\n",
    "\n",
    "from sklearn import preprocessing, model_selection, neighbors\n",
    "\n",
    "import pandas as pd\n",
    "\n",
    "\n",
    "\n",
    "df = pd.read_csv(r'C:\\Users\\syeds\\AppData\\Local\\Programs\\Python\\Python36\\Scripts\\New folder\\KNn\\DataSet.data.txt')\n",
    "\n",
    "#we know from breast-cancer-wisconsin.names that 'Missing attribute values: 16'\n",
    "\n",
    "#need to replace '?' with a nominated value which will not crash and can be filtered out.\n",
    "\n",
    "\n",
    "\n",
    "df.drop(['SeqNum'], 1, inplace=True)\n",
    "\n",
    "#drop the id column as it does not aid prediction in any way.\n",
    "\n",
    "\n",
    "X = np.array(df.drop(['Diabetes'],1))\n",
    "\n",
    "#drop the 'class' column from X as we will be predicting 'class'\n",
    "\n",
    "y = np.array(df['Diabetes'])\n",
    "\n",
    "#use 'class' column for y as this is the column we want to predict.\n",
    "\n",
    "\n",
    "\n",
    "X_train, X_test, y_train, y_test = model_selection.train_test_split(X,y,test_size=0.2)\n",
    "\n",
    "#split X into train/test data sets.\n",
    "\n",
    "\n",
    "\n",
    "clf = neighbors.KNeighborsClassifier(n_neighbors=3)\n",
    "\n",
    "clf.fit(X_train, y_train)\n",
    "\n",
    "accuracy = clf.score(X_test, y_test)\n",
    "\n",
    "\n",
    "\n",
    "print (\"accuracy=\", accuracy)\n",
    "\n",
    "example_measures = np.array([[6.8,90,50]])\n",
    "\n",
    "prediction = clf.predict(example_measures)\n",
    "\n",
    "print (\"prediction=\", prediction, \"type(prediction)=\", type(prediction))\n",
    "#print (df.head())"
   ]
  },
  {
   "cell_type": "code",
   "execution_count": null,
   "metadata": {
    "collapsed": true
   },
   "outputs": [],
   "source": []
  }
 ],
 "metadata": {
  "kernelspec": {
   "display_name": "Python 3",
   "language": "python",
   "name": "python3"
  },
  "language_info": {
   "codemirror_mode": {
    "name": "ipython",
    "version": 3
   },
   "file_extension": ".py",
   "mimetype": "text/x-python",
   "name": "python",
   "nbconvert_exporter": "python",
   "pygments_lexer": "ipython3",
   "version": "3.6.3"
  }
 },
 "nbformat": 4,
 "nbformat_minor": 2
}
